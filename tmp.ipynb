{
 "cells": [
  {
   "cell_type": "code",
   "execution_count": 2,
   "metadata": {},
   "outputs": [],
   "source": [
    "import pandas as pd\n"
   ]
  },
  {
   "cell_type": "code",
   "execution_count": 3,
   "metadata": {},
   "outputs": [],
   "source": [
    "df = pd.read_csv('test.csv')"
   ]
  },
  {
   "cell_type": "code",
   "execution_count": 11,
   "metadata": {},
   "outputs": [],
   "source": [
    "df.loc[1,'number']='best'"
   ]
  },
  {
   "cell_type": "code",
   "execution_count": 14,
   "metadata": {},
   "outputs": [],
   "source": [
    "d = df.loc[1]"
   ]
  },
  {
   "cell_type": "code",
   "execution_count": 22,
   "metadata": {},
   "outputs": [
    {
     "name": "stdout",
     "output_type": "stream",
     "text": [
      "Unnamed: 0 1\n",
      "number best\n",
      "acc_percent 0.16764385887425928\n",
      "params_nums 74860.0\n",
      "mean_time 1.9646485408147176\n",
      "datetime_start 2021-11-25 12:54:10.285864\n",
      "datetime_complete 2021-11-25 12:55:51.973134\n",
      "duration 0 days 00:01:41.687270\n",
      "params_batch_size 32\n",
      "params_depth_multiple 0.25\n",
      "params_epochs 1\n",
      "params_img_size 96\n",
      "params_last_dim 768\n",
      "params_m1 Conv\n",
      "params_m1/activation Hardswish\n",
      "params_m1/out_channels 64\n",
      "params_m1/repeat 2\n",
      "params_m1/stride 1\n",
      "params_m2 Pass\n",
      "params_m2/activation nan\n",
      "params_m2/kernel_size nan\n",
      "params_m2/out_channels 128\n",
      "params_m2/repeat 5\n",
      "params_m2/stride 1\n",
      "params_m2/v3_c nan\n",
      "params_m2/v3_hs nan\n",
      "params_m2/v3_se nan\n",
      "params_m2/v3_t nan\n",
      "params_m3 Pass\n",
      "params_m3/activation nan\n",
      "params_m3/kernel_size nan\n",
      "params_m3/out_channels nan\n",
      "params_m3/repeat 2\n",
      "params_m3/stride 1\n",
      "params_m3/v2_c nan\n",
      "params_m3/v2_t nan\n",
      "params_m4 InvertedResidualv2\n",
      "params_m4/activation nan\n",
      "params_m4/kernel_size nan\n",
      "params_m4/out_channels nan\n",
      "params_m4/repeat 2\n",
      "params_m4/stride 2\n",
      "params_m4/v2_c 40.0\n",
      "params_m4/v2_t 8.0\n",
      "params_m5 InvertedResidualv2\n",
      "params_m5/activation nan\n",
      "params_m5/kernel_size nan\n",
      "params_m5/out_channels nan\n",
      "params_m5/repeat 5\n",
      "params_m5/stride 1.0\n",
      "params_m5/v2_c 128.0\n",
      "params_m5/v2_t 3.0\n",
      "params_m5/v3_c nan\n",
      "params_m5/v3_hs nan\n",
      "params_m5/v3_se nan\n",
      "params_m5/v3_t nan\n",
      "params_m6 DWConv\n",
      "params_m6/activation ReLU\n",
      "params_m6/kernel_size 3.0\n",
      "params_m6/out_channels 192.0\n",
      "params_m6/repeat 5\n",
      "params_m6/stride 1\n",
      "params_m6/v2_c nan\n",
      "params_m6/v2_t nan\n",
      "params_m7 InvertedResidualv3\n",
      "params_m7/activation nan\n",
      "params_m7/kernel_size 3.0\n",
      "params_m7/out_channels nan\n",
      "params_m7/repeat 1\n",
      "params_m7/stride 1\n",
      "params_m7/v3_c 136.0\n",
      "params_m7/v3_hs 0.0\n",
      "params_m7/v3_se 1.0\n",
      "params_m7/v3_t 5.3\n",
      "params_n_select 6\n",
      "params_width_multiple 0.25\n",
      "state COMPLETE\n"
     ]
    }
   ],
   "source": [
    "for k,v in d.items():\n",
    "    print(k,v)"
   ]
  }
 ],
 "metadata": {
  "interpreter": {
   "hash": "e31c68abf1d5dd3f9e2269f23eadf1b199587e56c0618a30760176a65ebfcab4"
  },
  "kernelspec": {
   "display_name": "Python 3.7.11 64-bit ('lightweight': conda)",
   "language": "python",
   "name": "python3"
  },
  "language_info": {
   "codemirror_mode": {
    "name": "ipython",
    "version": 3
   },
   "file_extension": ".py",
   "mimetype": "text/x-python",
   "name": "python",
   "nbconvert_exporter": "python",
   "pygments_lexer": "ipython3",
   "version": "3.7.11"
  },
  "orig_nbformat": 4
 },
 "nbformat": 4,
 "nbformat_minor": 2
}
